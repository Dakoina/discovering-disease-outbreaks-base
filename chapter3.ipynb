{
 "cells": [
  {
   "cell_type": "markdown",
   "metadata": {},
   "source": [
    "# Applying Clustering Algorithms to Find Geographically Similar Headlines\n",
    "\n",
    "### Objective\n",
    "\n",
    "Cluster (find groups of) headlines based on the geographic coordinates using both k-means clustering and DBSCAN. Visualize the clusters on a world map to check the results. Try different parameters and distance measures in the algorithms to produce better clusters"
   ]
  },
  {
   "cell_type": "code",
   "execution_count": 1,
   "metadata": {},
   "outputs": [],
   "source": [
    "from sklearn.cluster import KMeans\n",
    "import numpy as np\n",
    "import pandas as pd\n",
    "import matplotlib.pyplot as plt\n",
    "%matplotlib inline\n",
    "\n",
    "data = pd.read_json(\"data/chapter2-data.json\")"
   ]
  },
  {
   "cell_type": "code",
   "execution_count": 2,
   "metadata": {},
   "outputs": [
    {
     "data": {
      "text/html": [
       "<div>\n",
       "<style scoped>\n",
       "    .dataframe tbody tr th:only-of-type {\n",
       "        vertical-align: middle;\n",
       "    }\n",
       "\n",
       "    .dataframe tbody tr th {\n",
       "        vertical-align: top;\n",
       "    }\n",
       "\n",
       "    .dataframe thead th {\n",
       "        text-align: right;\n",
       "    }\n",
       "</style>\n",
       "<table border=\"1\" class=\"dataframe\">\n",
       "  <thead>\n",
       "    <tr style=\"text-align: right;\">\n",
       "      <th></th>\n",
       "      <th>headline</th>\n",
       "      <th>cities</th>\n",
       "      <th>latitude</th>\n",
       "      <th>longitude</th>\n",
       "      <th>country_code</th>\n",
       "    </tr>\n",
       "  </thead>\n",
       "  <tbody>\n",
       "    <tr>\n",
       "      <th>0</th>\n",
       "      <td>Zika Outbreak Hits Miami</td>\n",
       "      <td>Miami</td>\n",
       "      <td>25.77427</td>\n",
       "      <td>-80.19366</td>\n",
       "      <td>US</td>\n",
       "    </tr>\n",
       "    <tr>\n",
       "      <th>1</th>\n",
       "      <td>Could Zika Reach New York City?</td>\n",
       "      <td>New York City</td>\n",
       "      <td>40.71427</td>\n",
       "      <td>-74.00597</td>\n",
       "      <td>US</td>\n",
       "    </tr>\n",
       "    <tr>\n",
       "      <th>2</th>\n",
       "      <td>First Case of Zika in Miami Beach</td>\n",
       "      <td>Miami Beach</td>\n",
       "      <td>25.79065</td>\n",
       "      <td>-80.13005</td>\n",
       "      <td>US</td>\n",
       "    </tr>\n",
       "    <tr>\n",
       "      <th>3</th>\n",
       "      <td>Mystery Virus Spreads in Recife, Brazil</td>\n",
       "      <td>Recife</td>\n",
       "      <td>-8.05389</td>\n",
       "      <td>-34.88111</td>\n",
       "      <td>BR</td>\n",
       "    </tr>\n",
       "    <tr>\n",
       "      <th>4</th>\n",
       "      <td>Dallas man comes down with case of Zika</td>\n",
       "      <td>Dallas</td>\n",
       "      <td>32.78306</td>\n",
       "      <td>-96.80667</td>\n",
       "      <td>US</td>\n",
       "    </tr>\n",
       "  </tbody>\n",
       "</table>\n",
       "</div>"
      ],
      "text/plain": [
       "                                  headline         cities  latitude  \\\n",
       "0                 Zika Outbreak Hits Miami          Miami  25.77427   \n",
       "1          Could Zika Reach New York City?  New York City  40.71427   \n",
       "2        First Case of Zika in Miami Beach    Miami Beach  25.79065   \n",
       "3  Mystery Virus Spreads in Recife, Brazil         Recife  -8.05389   \n",
       "4  Dallas man comes down with case of Zika         Dallas  32.78306   \n",
       "\n",
       "   longitude country_code  \n",
       "0  -80.19366           US  \n",
       "1  -74.00597           US  \n",
       "2  -80.13005           US  \n",
       "3  -34.88111           BR  \n",
       "4  -96.80667           US  "
      ]
     },
     "execution_count": 2,
     "metadata": {},
     "output_type": "execute_result"
    }
   ],
   "source": [
    "#let's verify we have data\n",
    "data.head()"
   ]
  },
  {
   "cell_type": "code",
   "execution_count": 3,
   "metadata": {},
   "outputs": [
    {
     "data": {
      "text/plain": [
       "Text(0.5, 1.0, 'example scatter of lat/long')"
      ]
     },
     "execution_count": 3,
     "metadata": {},
     "output_type": "execute_result"
    },
    {
     "data": {
      "image/png": "[encoded data removed]",
      "text/plain": [
       "<Figure size 432x288 with 1 Axes>"
      ]
     },
     "metadata": {
      "needs_background": "light"
     },
     "output_type": "display_data"
    }
   ],
   "source": [
    "plt.scatter(data['latitude'], data['longitude'])\n",
    "plt.title(\"example scatter of lat/long\")"
   ]
  },
  {
   "cell_type": "code",
   "execution_count": 22,
   "metadata": {},
   "outputs": [
    {
     "name": "stdout",
     "output_type": "stream",
     "text": [
      "City assignments:\n",
      "[0 0 0 2 0 0 0 2 0 0 0 0 0 0 1 1 0 0 0 0 0 0 2 1 0 0 2 0 1 1 2 1 1 0 0 0 1\n",
      " 1 1 0 0 0 0 0 0 0 1 2 0 0 0 0 0 0 0 1 0 0 0 2 0 0 1 0 1 1 1 1 1 0 1 0 0 0\n",
      " 2 1 0 0 0 0 0 1 0 0 2 1 0 0 1 0 1 0 1 1 2 1 0 1 2 0 1 0 1 0 0 1 2 1 0 0 0\n",
      " 2 0 0 0 0 1 1 0 0 1 1 0 2 1 1 0 1 2 1 0 0 0 0 2 0 0 0 1 0 0 2 0 0 0 0 2 0\n",
      " 0 0 0 0 0 0 0 0 0 0 2 0 1 0 1 0 0 1 0 0 2 0 0 0 2 2 0 0 0 2 0 0 2 0 0 0 0\n",
      " 0 0 0 1 0 2 0 2 0 2 1 0 2 0 0 0 0 0 0 0 0 0 0 0 0 2 0 0 0 0 0 2 0 0 0 2 2\n",
      " 2 0 0 0 2 0 0 2 0 2 0 0 0 2 2 2 2 0 2 0 0 2 0 0 0 0 1 0 0 0 0 0 1 0 0 2 1\n",
      " 0 1 0 0 0 2 0 1 2 1 1 0 2 1 1 1 0 2 0 0 0 0 2 0 1 0 1 0 0 0 2 2 0 2 2 0 0\n",
      " 0 0 2 2 0 0 0 1 0 2 2 0 2 2 0 1 0 2 0 0 0 0 2 0 0 0 1 2 0 0 2 0 0 1 2 0 0\n",
      " 0 0 0 0 2 0 0 0 0 0 2 0 0 1 0 0 2 1 0 0 2 0 0 0 0 0 2 0 1 0 2 0 0 0 0 0 1\n",
      " 0 0 0 0 2 0 0 0 0 1 0 0 0 0 0 0 0 0 0 2 2 0 0 0 0 0 2 1 0 1 0 2 0 2 1 0 0\n",
      " 0 0 2 2 2 1 1 0 0 0 0 1 0 0 0 0 0 0 0 0 2 2 0 0 0 0 0 0 0 2 0 0 0 1 0 2 0\n",
      " 2 1 2 0 0 1 0 0 1 2 0 2 2 2 2 2 2 0 2 1 0 0 0 0 0 2 2 2 0 1 2 0 0 0 0 0 0\n",
      " 0 0 2 1 0 1 1 0 0 2 0 0 1 2 0 0 0 0 1 2 0 0 1 0 0 0 0 0 0 0 0 2 0 1 0 0 2\n",
      " 2 0 2 0 0 0 0 0 2 0 0 0 0 0 2 0 0 0 0 0 2 1 0 0 0 1 0 0 0 0 0 0 0 0 0 0 0\n",
      " 2 1 1 0 0 0 0 0 2 0 0 0 0 0 0 0 0 2 0 0 2 1 0 2 0 0 0 0 0 0 2 0 1 0 2 0 0\n",
      " 2 1 0 0 0 2 0 0 0 0 2 2 1 1 0 0]\n"
     ]
    }
   ],
   "source": [
    "cities = list(zip(data[\"latitude\"], data[\"longitude\"]))\n",
    "cluster_size=3\n",
    "cluster_model = KMeans(n_clusters=cluster_size)\n",
    "assigned_cities = cluster_model.fit_predict(cities)\n",
    "\n",
    "print(\"City assignments:\")\n",
    "print(assigned_cities)"
   ]
  },
  {
   "cell_type": "code",
   "execution_count": 23,
   "metadata": {},
   "outputs": [
    {
     "data": {
      "image/png": "[encoded data removed]",
      "text/plain": [
       "<Figure size 432x288 with 1 Axes>"
      ]
     },
     "metadata": {
      "needs_background": "light"
     },
     "output_type": "display_data"
    }
   ],
   "source": [
    "for cluster_index in range(cluster_size):\n",
    "    selected_cities = [cities[i] for i in range(len(cities))\n",
    "                      if cluster_index == assigned_cities[i]]\n",
    "    x_coordinates, y_coordinates = np.array(selected_cities).T\n",
    "    plt.scatter(x_coordinates, y_coordinates,\n",
    "                color=['b', 'g', 'r', 'c', 'm', 'y', 'k', 'w'][cluster_index])\n",
    "plt.show()"
   ]
  },
  {
   "cell_type": "code",
   "execution_count": 24,
   "metadata": {},
   "outputs": [
    {
     "data": {
      "image/png": "[encoded data removed]",
      "text/plain": [
       "<Figure size 432x288 with 1 Axes>"
      ]
     },
     "metadata": {
      "needs_background": "light"
     },
     "output_type": "display_data"
    }
   ],
   "source": [
    "k_values = range(1, 10)\n",
    "inertia_values = [KMeans(k).fit(cities).inertia_\n",
    "                  for k in k_values]\n",
    "\n",
    "plt.plot(k_values, inertia_values)\n",
    "plt.xlabel('K')\n",
    "plt.ylabel('Inertia')\n",
    "plt.show()"
   ]
  },
  {
   "cell_type": "code",
   "execution_count": null,
   "metadata": {},
   "outputs": [],
   "source": []
  }
 ],
 "metadata": {
  "kernelspec": {
   "display_name": "Python 3",
   "language": "python",
   "name": "python3"
  },
  "language_info": {
   "codemirror_mode": {
    "name": "ipython",
    "version": 3
   },
   "file_extension": ".py",
   "mimetype": "text/x-python",
   "name": "python",
   "nbconvert_exporter": "python",
   "pygments_lexer": "ipython3",
   "version": "3.7.8"
  }
 },
 "nbformat": 4,
 "nbformat_minor": 4
}
